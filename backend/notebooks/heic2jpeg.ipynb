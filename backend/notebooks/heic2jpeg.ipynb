{
 "cells": [
  {
   "cell_type": "markdown",
   "id": "20206f14-4e46-4db5-a31d-16388ea9b809",
   "metadata": {},
   "source": [
    "# Convert HEIC into JPG"
   ]
  },
  {
   "cell_type": "markdown",
   "id": "fbffbfb9-a26f-47f0-92fa-1b9c4bc2042d",
   "metadata": {},
   "source": [
    "## Install Packages\n"
   ]
  },
  {
   "cell_type": "markdown",
   "id": "24e1fe59-53f7-45f8-907d-cad64e64f116",
   "metadata": {},
   "source": [
    "## Prepare Classes and Functions\n"
   ]
  },
  {
   "cell_type": "code",
   "execution_count": 1,
   "id": "5e039069-4787-4064-98c9-2f4bb1d74d4e",
   "metadata": {},
   "outputs": [
    {
     "name": "stdout",
     "output_type": "stream",
     "text": [
      "WD = '/var/git/backend/notebooks'\n",
      "img_dir = '/app/img/#Career/20_OTS/People'\n"
     ]
    }
   ],
   "source": [
    "import sys\n",
    "from os.path import dirname, abspath, join\n",
    "\n",
    "\n",
    "WD = dirname(abspath(\"__file__\"))\n",
    "img_dir = \"/app/img/#Career/20_OTS/People\"\n",
    "print(f\"{WD = }\")\n",
    "print(f\"{img_dir = }\")\n"
   ]
  },
  {
   "cell_type": "code",
   "execution_count": 2,
   "id": "c0ed2c79",
   "metadata": {},
   "outputs": [],
   "source": [
    "sys.path.append(join(WD, \"..\"))\n"
   ]
  },
  {
   "cell_type": "code",
   "execution_count": 3,
   "id": "6f0f8dd0",
   "metadata": {},
   "outputs": [
    {
     "name": "stderr",
     "output_type": "stream",
     "text": [
      "\u001b[32m2025-01-05 14:01:03.102\u001b[0m | \u001b[34m\u001b[1mDEBUG   \u001b[0m | \u001b[36mconverter.heic2jpg\u001b[0m:\u001b[36m__init__\u001b[0m:\u001b[36m53\u001b[0m - \u001b[34m\u001b[1mself.heic_path_list:\n",
      "/app/img/#Career/20_OTS/People/20240619_171636-20240619_1716.heic\n",
      "/app/img/#Career/20_OTS/People/20240620_131218-20240620_1312.heic\n",
      "/app/img/#Career/20_OTS/People/20240709_162701-20240709_1627.heic\n",
      "/app/img/#Career/20_OTS/People/20240712_185225-20240712_1852.heic\n",
      "/app/img/#Career/20_OTS/People/20240808_162848-20240808_1628.heic\n",
      "/app/img/#Career/20_OTS/People/20240808_162849-20240808_1628.heic\n",
      "/app/img/#Career/20_OTS/People/20240808_162851-20240808_1628.heic\u001b[0m\n"
     ]
    },
    {
     "name": "stdout",
     "output_type": "stream",
     "text": [
      "{'/app/img/#Career/20_OTS/People/20240619_171636-20240619_1716.heic': {'moved_org': '/app/img/HEIC/#Career/20_OTS/People/20240619_171636-20240619_1716.heic',\n",
      "                                                                       'will_be_made': '/app/img/#Career/20_OTS/People/20240619_171636-20240619_1716.jpg'},\n",
      " '/app/img/#Career/20_OTS/People/20240620_131218-20240620_1312.heic': {'moved_org': '/app/img/HEIC/#Career/20_OTS/People/20240620_131218-20240620_1312.heic',\n",
      "                                                                       'will_be_made': '/app/img/#Career/20_OTS/People/20240620_131218-20240620_1312.jpg'},\n",
      " '/app/img/#Career/20_OTS/People/20240709_162701-20240709_1627.heic': {'moved_org': '/app/img/HEIC/#Career/20_OTS/People/20240709_162701-20240709_1627.heic',\n",
      "                                                                       'will_be_made': '/app/img/#Career/20_OTS/People/20240709_162701-20240709_1627.jpg'},\n",
      " '/app/img/#Career/20_OTS/People/20240712_185225-20240712_1852.heic': {'moved_org': '/app/img/HEIC/#Career/20_OTS/People/20240712_185225-20240712_1852.heic',\n",
      "                                                                       'will_be_made': '/app/img/#Career/20_OTS/People/20240712_185225-20240712_1852.jpg'},\n",
      " '/app/img/#Career/20_OTS/People/20240808_162848-20240808_1628.heic': {'moved_org': '/app/img/HEIC/#Career/20_OTS/People/20240808_162848-20240808_1628.heic',\n",
      "                                                                       'will_be_made': '/app/img/#Career/20_OTS/People/20240808_162848-20240808_1628.jpg'},\n",
      " '/app/img/#Career/20_OTS/People/20240808_162849-20240808_1628.heic': {'moved_org': '/app/img/HEIC/#Career/20_OTS/People/20240808_162849-20240808_1628.heic',\n",
      "                                                                       'will_be_made': '/app/img/#Career/20_OTS/People/20240808_162849-20240808_1628.jpg'},\n",
      " '/app/img/#Career/20_OTS/People/20240808_162851-20240808_1628.heic': {'moved_org': '/app/img/HEIC/#Career/20_OTS/People/20240808_162851-20240808_1628.heic',\n",
      "                                                                       'will_be_made': '/app/img/#Career/20_OTS/People/20240808_162851-20240808_1628.jpg'}}\n"
     ]
    }
   ],
   "source": [
    "from pprint import pprint\n",
    "from converter.heic2jpg import HeicConverter\n",
    "\n",
    "\n",
    "heic_converter = HeicConverter(img_dir)\n",
    "convert_list = heic_converter.find_convert_list()\n",
    "\n",
    "pprint(convert_list)\n"
   ]
  },
  {
   "cell_type": "code",
   "execution_count": 4,
   "id": "961ee565-d280-4646-ad9e-4e6a91cb6264",
   "metadata": {},
   "outputs": [],
   "source": [
    "# heic_converter.convert()\n"
   ]
  },
  {
   "cell_type": "code",
   "execution_count": null,
   "id": "562564ef-20f1-42e4-a181-911e601e4e73",
   "metadata": {},
   "outputs": [],
   "source": []
  }
 ],
 "metadata": {
  "kernelspec": {
   "display_name": "Python 3",
   "language": "python",
   "name": "python3"
  },
  "language_info": {
   "codemirror_mode": {
    "name": "ipython",
    "version": 3
   },
   "file_extension": ".py",
   "mimetype": "text/x-python",
   "name": "python",
   "nbconvert_exporter": "python",
   "pygments_lexer": "ipython3",
   "version": "3.11.11"
  },
  "widgets": {
   "application/vnd.jupyter.widget-state+json": {
    "state": {},
    "version_major": 2,
    "version_minor": 0
   }
  }
 },
 "nbformat": 4,
 "nbformat_minor": 5
}
